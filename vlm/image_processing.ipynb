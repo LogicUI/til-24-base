{
 "cells": [
  {
   "cell_type": "code",
   "execution_count": 1,
   "id": "d31a4d24-7f22-4662-94d4-a3c6ede6566f",
   "metadata": {
    "tags": []
   },
   "outputs": [],
   "source": [
    "from albumentations import Compose, HorizontalFlip, VerticalFlip, RandomBrightnessContrast, Resize\n",
    "from albumentations.pytorch.transforms import ToTensorV2\n"
   ]
  },
  {
   "cell_type": "code",
   "execution_count": 2,
   "id": "2480b39e-d766-4c29-9ebb-06e469138aca",
   "metadata": {
    "tags": []
   },
   "outputs": [],
   "source": [
    "def get_augmentation_pipeline():\n",
    "    return Compose([\n",
    "        HorizontalFlip(p=0.5),  # Flip the image horizontally with a probability of 0.5\n",
    "        VerticalFlip(p=0.5),  # Flip the image vertically with a probability of 0.5\n",
    "        RandomBrightnessContrast(p=0.2),  # Randomly change brightness and contrast\n",
    "        Resize(height=512, width=512),  # Resize images to 512x512 for uniformity\n",
    "        ToTensorV2()  # Convert the image to a PyTorch tensor\n",
    "    ], bbox_params={'format': 'pascal_voc', 'label_fields': ['labels']})"
   ]
  },
  {
   "cell_type": "code",
   "execution_count": null,
   "id": "1974f9ec-aaf9-41b7-9eda-fce094cb5411",
   "metadata": {},
   "outputs": [],
   "source": [
    "import cv2\n",
    "import json\n",
    "from albumentations import BboxParams\n",
    "\n",
    "# Load your JSON annotations\n",
    "with open('your_annotations.json', 'r') as f:\n",
    "    annotations = json.load(f)\n",
    "\n",
    "def augment_image(image_path, annotations, augmentation_pipeline):\n",
    "    image = cv2.imread(image_path)\n",
    "    image = cv2.cvtColor(image, cv2.COLOR_BGR2RGB)\n",
    "    bboxes = [ann['bbox'] for ann in annotations]\n",
    "    labels = [ann['caption'] for ann in annotations]\n",
    "\n",
    "    augmented = augmentation_pipeline(image=image, bboxes=bboxes, labels=labels)\n",
    "    \n",
    "    augmented_image = augmented['image']\n",
    "    augmented_bboxes = augmented['bboxes']\n",
    "    augmented_labels = augmented['labels']\n",
    "    \n",
    "    return augmented_image, augmented_bboxes, augmented_labels"
   ]
  },
  {
   "cell_type": "code",
   "execution_count": null,
   "id": "09d02a6e-0e02-47d9-8d08-0b4aaf1d302b",
   "metadata": {},
   "outputs": [],
   "source": [
    "augmentation_pipeline = get_augmentation_pipeline()\n",
    "image_path = 'path_to_your_image/image_0.jpg'\n",
    "augmented_image, augmented_bboxes, augmented_labels = augment_image(image_path, annotations[0]['annotations'], augmentation_pipeline)"
   ]
  }
 ],
 "metadata": {
  "environment": {
   "kernel": "conda-base-py",
   "name": "workbench-notebooks.m120",
   "type": "gcloud",
   "uri": "us-docker.pkg.dev/deeplearning-platform-release/gcr.io/workbench-notebooks:m120"
  },
  "kernelspec": {
   "display_name": "Python 3 (ipykernel)",
   "language": "python",
   "name": "conda-base-py"
  },
  "language_info": {
   "codemirror_mode": {
    "name": "ipython",
    "version": 3
   },
   "file_extension": ".py",
   "mimetype": "text/x-python",
   "name": "python",
   "nbconvert_exporter": "python",
   "pygments_lexer": "ipython3",
   "version": "3.10.14"
  }
 },
 "nbformat": 4,
 "nbformat_minor": 5
}
